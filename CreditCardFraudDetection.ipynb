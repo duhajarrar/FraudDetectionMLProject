{
  "nbformat": 4,
  "nbformat_minor": 0,
  "metadata": {
    "kernelspec": {
      "display_name": "Python 3",
      "language": "python",
      "name": "python3"
    },
    "language_info": {
      "codemirror_mode": {
        "name": "ipython",
        "version": 3
      },
      "file_extension": ".py",
      "mimetype": "text/x-python",
      "name": "python",
      "nbconvert_exporter": "python",
      "pygments_lexer": "ipython3",
      "version": "3.7.4"
    },
    "colab": {
      "name": "Copy of CreditCardFraudDetection.ipynb",
      "provenance": [],
      "toc_visible": true,
      "include_colab_link": true
    }
  },
  "cells": [
    {
      "cell_type": "markdown",
      "metadata": {
        "id": "view-in-github",
        "colab_type": "text"
      },
      "source": [
        "<a href=\"https://colab.research.google.com/github/duhajarrar/FraudDetectionMLProject/blob/master/CreditCardFraudDetection.ipynb\" target=\"_parent\"><img src=\"https://colab.research.google.com/assets/colab-badge.svg\" alt=\"Open In Colab\"/></a>"
      ]
    },
    {
      "cell_type": "markdown",
      "metadata": {
        "id": "WXpnxtWRFwQW",
        "colab_type": "text"
      },
      "source": [
        "# Information about data set\n",
        "\n",
        "The datasets contains transactions made by credit cards in September 2013 by european cardholders. This dataset presents transactions that occurred in two days, where we have 492 frauds out of 284,807 transactions. The dataset is highly unbalanced, the positive class (frauds) account for 0.172% of all transactions.\n",
        "\n",
        "It contains only numerical input variables which are the result of a PCA transformation. Unfortunately, due to confidentiality issues, we cannot provide the original features and more background information about the data. Features V1, V2, ... V28 are the principal components obtained with PCA, the only features which have not been transformed with PCA are 'Time' and 'Amount'. Feature 'Time' contains the seconds elapsed between each transaction and the first transaction in the dataset. The feature 'Amount' is the transaction Amount, this feature can be used for example-dependant cost-senstive learning. **Feature 'Class' is the response variable and it takes value 1 in case of fraud and 0 otherwise.**\n",
        "\n",
        "Given the class imbalance ratio, we recommend measuring the accuracy using the Area Under the Precision-Recall Curve (AUPRC). Confusion matrix accuracy is not meaningful for unbalanced classification.\n",
        "\n",
        "The dataset has been collected and analysed during a research collaboration of Worldline and the Machine Learning Group (http://mlg.ulb.ac.be) of ULB (Université Libre de Bruxelles) on big data mining and fraud detection. "
      ]
    },
    {
      "cell_type": "markdown",
      "metadata": {
        "id": "fPBBUYfrrkaM",
        "colab_type": "text"
      },
      "source": [
        "# Principal component analysis (PCA) "
      ]
    },
    {
      "cell_type": "markdown",
      "metadata": {
        "id": "f5MsNo5jrvkD",
        "colab_type": "text"
      },
      "source": [
        "**PCA** is a method to reduce the dimensionality of a dataset, while preserving as much **variability** as possible.\n",
        "\n",
        "In our dataset **V1-V28** are the result of **PCA** transformation , this method was used in our dataset to protect the privacy of customers.\n",
        "https://www.youtube.com/watch?v=HMOI_lkzW08&t=70s"
      ]
    },
    {
      "cell_type": "markdown",
      "metadata": {
        "id": "s6BVNOhHFwQQ",
        "colab_type": "text"
      },
      "source": [
        "# Import Data from Drive [OK]\n",
        "\n",
        "Please download the data from https://www.kaggle.com/mlg-ulb/creditcardfraud\n",
        "\n",
        "Info about data: it is a CSV file, contains 31 features, the last feature is used to classify the transaction whether it is a fraud or not\n",
        "\n"
      ]
    },
    {
      "cell_type": "code",
      "metadata": {
        "id": "qj4vJhgIIE_l",
        "colab_type": "code",
        "colab": {}
      },
      "source": [
        "from google.colab import drive\n",
        "drive.mount('/content/drive', force_remount=True)"
      ],
      "execution_count": 0,
      "outputs": []
    },
    {
      "cell_type": "code",
      "metadata": {
        "id": "3zTlRkH1IaG_",
        "colab_type": "code",
        "colab": {}
      },
      "source": [
        "import os \n"
      ],
      "execution_count": 0,
      "outputs": []
    },
    {
      "cell_type": "code",
      "metadata": {
        "id": "ixAvYIe8IiL0",
        "colab_type": "code",
        "colab": {}
      },
      "source": [
        "cwd = os.getcwd()\n",
        "print (cwd)\n",
        "!ls -lah"
      ],
      "execution_count": 0,
      "outputs": []
    },
    {
      "cell_type": "code",
      "metadata": {
        "id": "G3A0ap2lIyC8",
        "colab_type": "code",
        "colab": {}
      },
      "source": [
        "os.chdir(\"/content/drive/My Drive\")"
      ],
      "execution_count": 0,
      "outputs": []
    },
    {
      "cell_type": "code",
      "metadata": {
        "id": "1TP0XZeDoomw",
        "colab_type": "code",
        "colab": {}
      },
      "source": [
        "!wc -l creditcard.csv\n"
      ],
      "execution_count": 0,
      "outputs": []
    },
    {
      "cell_type": "code",
      "metadata": {
        "id": "J-Wz7MNKKbus",
        "colab_type": "code",
        "colab": {}
      },
      "source": [
        "cwd = os.getcwd()\n",
        "print (cwd)\n",
        "!ls -lah"
      ],
      "execution_count": 0,
      "outputs": []
    },
    {
      "cell_type": "code",
      "metadata": {
        "id": "yQFvJf4mKj2-",
        "colab_type": "code",
        "colab": {}
      },
      "source": [
        "import pandas as pd\n",
        "import seaborn as sns\n",
        "import matplotlib.pyplot as plt\n",
        "import numpy as np\n",
        "\n",
        "url = \"/content/drive/My Drive/creditcard.csv\"\n",
        "\n",
        "creditcard = pd.read_csv(url)\n",
        "\n",
        "creditcard.head()\n"
      ],
      "execution_count": 0,
      "outputs": []
    },
    {
      "cell_type": "markdown",
      "metadata": {
        "id": "nbBfZm9sforQ",
        "colab_type": "text"
      },
      "source": [
        "# How to Deal with Imbalanced Dataset [OK]"
      ]
    },
    {
      "cell_type": "code",
      "metadata": {
        "id": "XS8Kp_VNFwQX",
        "colab_type": "code",
        "colab": {}
      },
      "source": [
        "print(creditcard.shape)"
      ],
      "execution_count": 0,
      "outputs": []
    },
    {
      "cell_type": "code",
      "metadata": {
        "id": "WsSJVyyYFwQa",
        "colab_type": "code",
        "colab": {}
      },
      "source": [
        "print(creditcard.columns)"
      ],
      "execution_count": 0,
      "outputs": []
    },
    {
      "cell_type": "code",
      "metadata": {
        "id": "UteXbVeOqDjr",
        "colab_type": "code",
        "colab": {}
      },
      "source": [
        "## check null values \n",
        "print (f'Number if the records = {creditcard.shape[0]}')\n",
        "pd.isnull(creditcard).sum()"
      ],
      "execution_count": 0,
      "outputs": []
    },
    {
      "cell_type": "code",
      "metadata": {
        "id": "MQ3w5P7UFwQc",
        "colab_type": "code",
        "colab": {}
      },
      "source": [
        "creditcard[\"Class\"].value_counts()"
      ],
      "execution_count": 0,
      "outputs": []
    },
    {
      "cell_type": "code",
      "metadata": {
        "id": "8vQ7quX2W8Rt",
        "colab_type": "code",
        "colab": {}
      },
      "source": [
        "## the data is highly unbalanced\n",
        "positive =  creditcard[creditcard.Class == 1]\n",
        "positive_cnt = positive.shape[0]\n",
        "\n",
        "negative =  creditcard[creditcard.Class == 0]\n",
        "negative_cnt = negative.shape[0]\n",
        "\n",
        "fruad_pct= positive_cnt / (positive_cnt  + negative_cnt )\n",
        "print(f'records count = {creditcard.shape[0]} , fruad records = {positive_cnt} ,  the positive class (frauds) {round(fruad_pct*100,3)}%')\n"
      ],
      "execution_count": 0,
      "outputs": []
    },
    {
      "cell_type": "markdown",
      "metadata": {
        "id": "CEmzNbMFpPau",
        "colab_type": "text"
      },
      "source": [
        "**Imbalanced Classes**\n",
        "\n",
        "Most machine learning algorithms work best when the number of samples in each class are about equal. This is because most algorithms are designed to maximize accuracy and reduce error.\n",
        "\n",
        "https://towardsdatascience.com/methods-for-dealing-with-imbalanced-data-5b761be45a18\n",
        "\n",
        "\n",
        "We explored 5 different methods for dealing with imbalanced datasets:\n",
        "Change the performance metric\n",
        "\n",
        "\n",
        "1.   Change the performance metric\n",
        "2.   Change the algorithm\n",
        "3.   Oversample minority class\n",
        "4.   Undersample majority class\n",
        "5.   Generate synthetic samples\n",
        "\n",
        "\n"
      ]
    },
    {
      "cell_type": "code",
      "metadata": {
        "id": "N1-eO1jrs3Iu",
        "colab_type": "code",
        "colab": {}
      },
      "source": [
        "from sklearn.model_selection import train_test_split\n",
        "x = creditcard.drop('Class',axis=1)\n",
        "y = creditcard.Class\n",
        "x_train, x_test, y_train, y_test = train_test_split(x,y,test_size=0.2)\n",
        "print('size of test dataset = {}, size of traing data = {}, percentage = {}%'.format(len(x_test),len(x_train),len(x_test)*100/(len(x_test) + len(x_train))))"
      ],
      "execution_count": 0,
      "outputs": []
    },
    {
      "cell_type": "code",
      "metadata": {
        "id": "AWLnDq36sX3V",
        "colab_type": "code",
        "colab": {}
      },
      "source": [
        "# Modeling the data as is\n",
        "# Train model\n",
        "from sklearn.linear_model import LogisticRegression\n",
        "model_lr = LogisticRegression(solver='liblinear').fit(x_train, y_train)\n",
        " \n",
        "# Checking accuracy\n",
        "ACC_train_lr = model_lr.score(x_train, y_train)\n",
        "ACC_test_lr = model_lr.score(x_test, y_test)\n",
        "print(ACC_train_lr*100)\n",
        "print(ACC_test_lr*100)\n",
        "\n",
        "# Predict on training set\n",
        "lr_pred = model_lr.predict(x_test)\n",
        "\n",
        "\n",
        "# Checking unique values\n",
        "predictions = pd.DataFrame(lr_pred)\n",
        "predictions[0].value_counts()\n"
      ],
      "execution_count": 0,
      "outputs": []
    },
    {
      "cell_type": "markdown",
      "metadata": {
        "id": "1e3XmIUXwiTV",
        "colab_type": "text"
      },
      "source": [
        "high score !\n",
        "but Let’s see what happens when we apply these F1 and recall scores to our logistic regression from above."
      ]
    },
    {
      "cell_type": "markdown",
      "metadata": {
        "id": "Q1TA1eHS9FFt",
        "colab_type": "text"
      },
      "source": [
        "**1-Change the performance metric**"
      ]
    },
    {
      "cell_type": "code",
      "metadata": {
        "id": "vwUjJMaxu0dj",
        "colab_type": "code",
        "colab": {}
      },
      "source": [
        "# 1-Change the performance metric\n",
        "\n",
        "from sklearn.metrics import accuracy_score\n",
        "print('accuracy_score= ', accuracy_score(y_test, lr_pred))\n",
        "\n",
        "from sklearn.metrics import f1_score\n",
        "# f1 score\n",
        "print('f1_score= ', f1_score(y_test, lr_pred))\n",
        "\n",
        "from sklearn.metrics import recall_score\n",
        "# recall score\n",
        "print('recall_score= ', recall_score(y_test, lr_pred))\n"
      ],
      "execution_count": 0,
      "outputs": []
    },
    {
      "cell_type": "markdown",
      "metadata": {
        "id": "FMRToKt2wsZE",
        "colab_type": "text"
      },
      "source": [
        "These scores don’t look quite so impressive"
      ]
    },
    {
      "cell_type": "markdown",
      "metadata": {
        "id": "PYmVAyWK9M8c",
        "colab_type": "text"
      },
      "source": [
        "**2. Change the algorithm**"
      ]
    },
    {
      "cell_type": "code",
      "metadata": {
        "id": "ApEW48HYwJqa",
        "colab_type": "code",
        "colab": {}
      },
      "source": [
        "# 2. Change the algorithm\n",
        "from sklearn.ensemble import RandomForestClassifier\n",
        "\n",
        "# train model\n",
        "model_rfc = RandomForestClassifier(n_estimators=10).fit(x_train, y_train)\n",
        "\n",
        "# predict on test set\n",
        "rfc_pred = model_rfc.predict(x_test)\n"
      ],
      "execution_count": 0,
      "outputs": []
    },
    {
      "cell_type": "code",
      "metadata": {
        "id": "GK9cFgI9yY3k",
        "colab_type": "code",
        "colab": {}
      },
      "source": [
        "from sklearn.metrics import accuracy_score\n",
        "print('accuracy_score= ', accuracy_score(y_test, rfc_pred))\n",
        "\n",
        "from sklearn.metrics import f1_score\n",
        "# f1 score\n",
        "print('f1_score= ', f1_score(y_test, rfc_pred))\n",
        "\n",
        "from sklearn.metrics import recall_score\n",
        "# recall score\n",
        "print('recall_score= ', recall_score(y_test, rfc_pred))"
      ],
      "execution_count": 0,
      "outputs": []
    },
    {
      "cell_type": "markdown",
      "metadata": {
        "id": "Z3J6Oj9ZwP_7",
        "colab_type": "text"
      },
      "source": [
        "While our accuracy score is slightly lower, both F1 and recall have increased as compared to logistic regression! It appears that for this specific problem, random forest may be a better choice of model."
      ]
    },
    {
      "cell_type": "markdown",
      "metadata": {
        "id": "1J-3EtLM9TsA",
        "colab_type": "text"
      },
      "source": [
        "**3. Resampling Techniques — Oversample minority class**"
      ]
    },
    {
      "cell_type": "code",
      "metadata": {
        "id": "JcryIcmZ-GpU",
        "colab_type": "code",
        "colab": {}
      },
      "source": [
        "from sklearn.utils import resample\n",
        "\n",
        "# Separate input features and target\n",
        "y = creditcard.Class\n",
        "X = creditcard.drop('Class', axis=1)\n",
        "\n",
        "# setting up testing and training sets\n",
        "X_train, X_test, y_train, y_test = train_test_split(X, y, test_size=0.25, random_state=27)\n",
        "\n",
        "# concatenate our training data back together\n",
        "X = pd.concat([X_train, y_train], axis=1)\n",
        "\n",
        "# separate minority and majority classes\n",
        "not_fraud = X[X.Class==0]\n",
        "fraud = X[X.Class==1]\n",
        "\n",
        "# upsample minority\n",
        "fraud_upsampled = resample(fraud,\n",
        "                          replace=True, # sample with replacement\n",
        "                          n_samples=len(not_fraud), # match number in majority class\n",
        "                          random_state=27) # reproducible results\n",
        "\n",
        "# combine majority and upsampled minority\n",
        "upsampled = pd.concat([not_fraud, fraud_upsampled])\n",
        "\n",
        "# check new class counts\n",
        "upsampled.Class.value_counts()\n"
      ],
      "execution_count": 0,
      "outputs": []
    },
    {
      "cell_type": "code",
      "metadata": {
        "id": "sAf4TYcP-Kua",
        "colab_type": "code",
        "colab": {}
      },
      "source": [
        "# trying logistic regression again with the balanced dataset\n",
        "y_train = upsampled.Class\n",
        "X_train = upsampled.drop('Class', axis=1)\n",
        "\n",
        "upsampled = LogisticRegression(solver='liblinear').fit(X_train, y_train)\n",
        "upsampled_pred = upsampled.predict(X_test)\n",
        "   "
      ],
      "execution_count": 0,
      "outputs": []
    },
    {
      "cell_type": "code",
      "metadata": {
        "id": "k7PERFMF_I_K",
        "colab_type": "code",
        "colab": {}
      },
      "source": [
        "from sklearn.metrics import accuracy_score\n",
        "print('accuracy_score= ', accuracy_score(y_test, upsampled_pred))\n",
        "\n",
        "from sklearn.metrics import f1_score\n",
        "# f1 score\n",
        "print('f1_score= ', f1_score(y_test, upsampled_pred))\n",
        "\n",
        "from sklearn.metrics import recall_score\n",
        "# recall score\n",
        "print('recall_score= ', recall_score(y_test, upsampled_pred))"
      ],
      "execution_count": 0,
      "outputs": []
    },
    {
      "cell_type": "markdown",
      "metadata": {
        "id": "t3bb_dal9VpK",
        "colab_type": "text"
      },
      "source": [
        "**4. Resampling techniques — Undersample majority class**"
      ]
    },
    {
      "cell_type": "code",
      "metadata": {
        "id": "YUtI9f2d_bQl",
        "colab_type": "code",
        "colab": {}
      },
      "source": [
        "# still using our separated classes fraud and not_fraud from above\n",
        "\n",
        "# downsample majority\n",
        "not_fraud_downsampled = resample(not_fraud,\n",
        "                                replace = False, # sample without replacement\n",
        "                                n_samples = len(fraud), # match minority n\n",
        "                                random_state = 27) # reproducible results\n",
        "\n",
        "# combine minority and downsampled majority\n",
        "downsampled = pd.concat([not_fraud_downsampled, fraud])\n",
        "\n",
        "# checking counts\n",
        "downsampled.Class.value_counts()\n"
      ],
      "execution_count": 0,
      "outputs": []
    },
    {
      "cell_type": "code",
      "metadata": {
        "id": "u60PDkvu_jVb",
        "colab_type": "code",
        "colab": {}
      },
      "source": [
        "# trying logistic regression again with the undersampled dataset\n",
        "\n",
        "y_train = downsampled.Class\n",
        "X_train = downsampled.drop('Class', axis=1)\n",
        "\n",
        "undersampled = LogisticRegression(solver='liblinear').fit(X_train, y_train)\n",
        "\n",
        "undersampled_pred = undersampled.predict(X_test)\n"
      ],
      "execution_count": 0,
      "outputs": []
    },
    {
      "cell_type": "code",
      "metadata": {
        "id": "SMhQ1_d4_n1y",
        "colab_type": "code",
        "colab": {}
      },
      "source": [
        "from sklearn.metrics import accuracy_score\n",
        "print('accuracy_score= ', accuracy_score(y_test, undersampled_pred))\n",
        "\n",
        "from sklearn.metrics import f1_score\n",
        "# f1 score\n",
        "print('f1_score= ', f1_score(y_test, undersampled_pred))\n",
        "\n",
        "from sklearn.metrics import recall_score\n",
        "# recall score\n",
        "print('recall_score= ', recall_score(y_test, undersampled_pred))"
      ],
      "execution_count": 0,
      "outputs": []
    },
    {
      "cell_type": "markdown",
      "metadata": {
        "id": "9dvc8wHL9deR",
        "colab_type": "text"
      },
      "source": [
        "**5. Generate synthetic samples SMOTE**"
      ]
    },
    {
      "cell_type": "code",
      "metadata": {
        "id": "ldo42zMI__x-",
        "colab_type": "code",
        "colab": {}
      },
      "source": [
        "from imblearn.over_sampling import SMOTE\n",
        "\n",
        "# Separate input features and target\n",
        "y = creditcard.Class\n",
        "X = creditcard.drop('Class', axis=1)\n",
        "\n",
        "# setting up testing and training sets\n",
        "X_train, X_test, y_train, y_test = train_test_split(X, y, test_size=0.25, random_state=27)\n",
        "\n",
        "sm = SMOTE(random_state=27, ratio=1.0)\n",
        "X_train, y_train = sm.fit_sample(X_train, y_train)"
      ],
      "execution_count": 0,
      "outputs": []
    },
    {
      "cell_type": "code",
      "metadata": {
        "id": "THYFI4moACvm",
        "colab_type": "code",
        "colab": {}
      },
      "source": [
        "smote = LogisticRegression(solver='liblinear').fit(X_train, y_train)\n",
        "\n",
        "smote_pred = smote.predict(X_test)\n"
      ],
      "execution_count": 0,
      "outputs": []
    },
    {
      "cell_type": "code",
      "metadata": {
        "id": "V0h25mgCAGwd",
        "colab_type": "code",
        "colab": {}
      },
      "source": [
        "from sklearn.metrics import accuracy_score\n",
        "print('accuracy_score= ', accuracy_score(y_test, smote_pred))\n",
        "\n",
        "from sklearn.metrics import f1_score\n",
        "# f1 score\n",
        "print('f1_score= ', f1_score(y_test, smote_pred))\n",
        "\n",
        "from sklearn.metrics import recall_score\n",
        "# recall score\n",
        "print('recall_score= ', recall_score(y_test, smote_pred))"
      ],
      "execution_count": 0,
      "outputs": []
    },
    {
      "cell_type": "markdown",
      "metadata": {
        "id": "n1PrW7He0S6B",
        "colab_type": "text"
      },
      "source": [
        "#**UPDATE balance the data -- Duha**\n",
        "https://www.youtube.com/watch?v=dkXB8HH_4-k"
      ]
    },
    {
      "cell_type": "code",
      "metadata": {
        "id": "ukgsB5E80Ryj",
        "colab_type": "code",
        "colab": {}
      },
      "source": [
        "from collections import Counter\n",
        "xx=creditcard.iloc[:,:-1]\n",
        "yy=creditcard.Class\n",
        "xx_train,xx_test,yy_train,yy_test =\\\n",
        "train_test_split(xx,yy,test_size=0.2,random_state=10)\n",
        "smote1=SMOTE()\n",
        "x_smote_train,y_smote_train=smote1.fit_sample(xx_train,yy_train)\n",
        "print(\"Before balance : \",Counter(yy_train))\n",
        "print(\"After balance : \",Counter(y_smote_train))\n"
      ],
      "execution_count": 0,
      "outputs": []
    },
    {
      "cell_type": "markdown",
      "metadata": {
        "id": "VZ64Ee9f9yTh",
        "colab_type": "text"
      },
      "source": [
        "It appears for this particular dataset random forest and SMOTE are among the best of the options we tried here."
      ]
    },
    {
      "cell_type": "markdown",
      "metadata": {
        "id": "fNzOX1gDFwRo",
        "colab_type": "text"
      },
      "source": [
        "# EDA [OK]"
      ]
    },
    {
      "cell_type": "code",
      "metadata": {
        "id": "7sDmHOisp_i7",
        "colab_type": "code",
        "colab": {}
      },
      "source": [
        "creditcard.shape"
      ],
      "execution_count": 0,
      "outputs": []
    },
    {
      "cell_type": "code",
      "metadata": {
        "id": "rvx6lBojqH6b",
        "colab_type": "code",
        "colab": {}
      },
      "source": [
        "creditcard.head()"
      ],
      "execution_count": 0,
      "outputs": []
    },
    {
      "cell_type": "code",
      "metadata": {
        "id": "wiLPTVh3txYi",
        "colab_type": "code",
        "colab": {}
      },
      "source": [
        "def foo(plot_rows,plot_col,i,col):\n",
        "    plt.subplot(plot_rows,plot_col,i)\n",
        "    sns.boxplot(x='Class',y=col,data=creditcard)\n",
        "\n",
        "plt.figure(figsize=(24,12))\n",
        "axs = [ foo(6,5,i,'V'+str(i)) for i in range(1,29)]\n"
      ],
      "execution_count": 0,
      "outputs": []
    },
    {
      "cell_type": "code",
      "metadata": {
        "id": "ACtKZJ7eFwRo",
        "colab_type": "code",
        "colab": {}
      },
      "source": [
        "sns.boxplot(x = \"Class\", y = \"Time\", data = creditcard)\n",
        "plt.show()"
      ],
      "execution_count": 0,
      "outputs": []
    },
    {
      "cell_type": "code",
      "metadata": {
        "id": "fVUhmVkT09Zb",
        "colab_type": "code",
        "colab": {}
      },
      "source": [
        "sns.set_style(\"whitegrid\")\n",
        "sns.FacetGrid(creditcard, hue=\"Class\", size = 6).map(plt.scatter, \"Time\", \"Amount\").add_legend()\n",
        "plt.show()"
      ],
      "execution_count": 0,
      "outputs": []
    },
    {
      "cell_type": "markdown",
      "metadata": {
        "id": "LrurYDXdFwRr",
        "colab_type": "text"
      },
      "source": [
        "Observations:\n",
        "\n",
        "By looking at the above box plot we can say that both fraud & genuine transactions occur throughout time and there is no distinction between them."
      ]
    },
    {
      "cell_type": "code",
      "metadata": {
        "id": "eO6e7PhB5OuR",
        "colab_type": "code",
        "colab": {}
      },
      "source": [
        "sns.scatterplot(x = \"Class\", y = \"Amount\", data = creditcard)\n",
        "plt.show()"
      ],
      "execution_count": 0,
      "outputs": []
    },
    {
      "cell_type": "markdown",
      "metadata": {
        "id": "5nAc8QOeFwRu",
        "colab_type": "text"
      },
      "source": [
        "Observations:\n",
        "\n",
        "From above box plot we can easily infer that there are no fraud transactions occur above the transaction amount of 3000. All of the fraud transactions have transaction amount less than 3000. However, there are many transactions which have a transaction amount greater than 3000 and all of them are genuine."
      ]
    },
    {
      "cell_type": "code",
      "metadata": {
        "id": "xCu2Infx83Pt",
        "colab_type": "code",
        "colab": {}
      },
      "source": [
        "import seaborn as sns\n",
        "import matplotlib.pyplot as plt\n",
        "col='V4'\n",
        "\n",
        "sns.distplot(creditcard[col][creditcard.Class == 1], bins=50, color='r')\n",
        "sns.distplot(creditcard[col][creditcard.Class == 0], bins=50, color='g')\n",
        "plt.show()"
      ],
      "execution_count": 0,
      "outputs": []
    },
    {
      "cell_type": "markdown",
      "metadata": {
        "id": "eeLFM-jTloZt",
        "colab_type": "text"
      },
      "source": [
        "# Differnat classification on data as is (unbalanced) [OK]"
      ]
    },
    {
      "cell_type": "code",
      "metadata": {
        "id": "l42qxWRa4L5Y",
        "colab_type": "code",
        "colab": {}
      },
      "source": [
        "from sklearn.model_selection import train_test_split\n",
        "x = creditcard.drop('Class',axis=1)\n",
        "y = creditcard.Class\n",
        "x_train, x_test, y_train, y_test = train_test_split(x,y,test_size=0.2)\n",
        "print('size of test dataset = {}, size of traing data = {}, percentage = {}%'.format(len(x_test),len(x_train),len(x_test)*100/(len(x_test) + len(x_train))))"
      ],
      "execution_count": 0,
      "outputs": []
    },
    {
      "cell_type": "code",
      "metadata": {
        "id": "0LcJURKW4uTK",
        "colab_type": "code",
        "colab": {}
      },
      "source": [
        "x"
      ],
      "execution_count": 0,
      "outputs": []
    },
    {
      "cell_type": "code",
      "metadata": {
        "id": "eiaplVab4vu_",
        "colab_type": "code",
        "colab": {}
      },
      "source": [
        "y"
      ],
      "execution_count": 0,
      "outputs": []
    },
    {
      "cell_type": "code",
      "metadata": {
        "id": "il-Q3p2i5urf",
        "colab_type": "code",
        "colab": {}
      },
      "source": [
        "## logistic regression\n",
        "from sklearn.linear_model import LogisticRegression\n",
        "model_lr = LogisticRegression()\n",
        "model_lr.fit(x_train, y_train)\n",
        "ACC_train_lr = model_lr.score(x_train, y_train)\n",
        "ACC_test_lr = model_lr.score(x_test, y_test)\n",
        "print(ACC_train_lr*100)\n",
        "print(ACC_test_lr*100)"
      ],
      "execution_count": 0,
      "outputs": []
    },
    {
      "cell_type": "code",
      "metadata": {
        "id": "ZFj46Gds5RlJ",
        "colab_type": "code",
        "colab": {}
      },
      "source": [
        "##  Decision tree\n",
        "from sklearn import tree\n",
        "model_dt = tree.DecisionTreeClassifier()\n",
        "model_dt.fit(x_train,y_train)\n",
        "ACC_train_dt = model_dt.score(x_train,y_train)\n",
        "ACC_test_dt = model_dt.score(x_test,y_test)\n",
        "print(ACC_train_dt*100)\n",
        "print(ACC_test_dt*100)"
      ],
      "execution_count": 0,
      "outputs": []
    },
    {
      "cell_type": "code",
      "metadata": {
        "id": "2S6Ner1c65NK",
        "colab_type": "code",
        "colab": {}
      },
      "source": [
        "## Support Vector Machine\n",
        "from sklearn.svm import SVC \n",
        "model_svm = SVC()\n",
        "model_svm.fit(x_train, y_train)\n",
        "ACC_train_svm = model_svm.score(x_train, y_train)\n",
        "ACC_test_svm = model_svm.score(x_test, y_test)\n",
        "print(ACC_train_svm*100)\n",
        "print(ACC_test_svm*100)\n"
      ],
      "execution_count": 0,
      "outputs": []
    },
    {
      "cell_type": "code",
      "metadata": {
        "id": "c4jkgEHG7li2",
        "colab_type": "code",
        "colab": {}
      },
      "source": [
        "## Random Forest \n",
        "from sklearn.ensemble import RandomForestClassifier \n",
        "model_rf = RandomForestClassifier()\n",
        "model_rf.fit(x_train,y_train)\n",
        "ACC_train_rf = model_rf.score(x_train, y_train)\n",
        "ACC_test_rf = model_rf.score(x_test, y_test)\n",
        "print(ACC_train_rf*100)\n",
        "print(ACC_test_rf*100)"
      ],
      "execution_count": 0,
      "outputs": []
    },
    {
      "cell_type": "code",
      "metadata": {
        "id": "qcvqTBP8D8y3",
        "colab_type": "code",
        "colab": {}
      },
      "source": [
        "## Naive Bayse\n",
        "from sklearn.naive_bayes import GaussianNB\n",
        "model_nb = GaussianNB()\n",
        "model_nb.fit(x_train,y_train)\n",
        "ACC_train_nb = model_nb.score(x_train,y_train)\n",
        "ACC_test_nb = model_nb.score(x_test,y_test)\n",
        "print(ACC_train_nb*100)\n",
        "print(ACC_test_nb*100)"
      ],
      "execution_count": 0,
      "outputs": []
    },
    {
      "cell_type": "code",
      "metadata": {
        "id": "MmKCgZ4z56pH",
        "colab_type": "code",
        "colab": {}
      },
      "source": [
        "from prettytable import PrettyTable\n",
        "t = PrettyTable(['Accuracy', 'Logistic (%)' , 'DT (%)' , 'SVM (%)' , 'RF (%)' , 'NB (%)'])\n",
        "t.add_row(['Training', ACC_train_lr*100, ACC_train_dt*100, ACC_train_svm*100, ACC_train_rf*100 , ACC_train_nb*100])\n",
        "t.add_row(['Testing', ACC_test_lr*100, ACC_test_dt*100, ACC_test_svm*100, ACC_test_rf*100 , ACC_test_nb*100])\n",
        "print(t)"
      ],
      "execution_count": 0,
      "outputs": []
    },
    {
      "cell_type": "code",
      "metadata": {
        "id": "xzEUWiVaIHJd",
        "colab_type": "code",
        "colab": {}
      },
      "source": [
        "# use differant performance metric on DT\n",
        "lr_pred = model_lr.predict(x_test)\n",
        "dt_pred = model_dt.predict(x_test)\n",
        "svm_pred = model_svm.predict(x_test)\n",
        "rf_pred = model_rf.predict(x_test)\n",
        "nb_pred = model_nb.predict(x_test)"
      ],
      "execution_count": 0,
      "outputs": []
    },
    {
      "cell_type": "code",
      "metadata": {
        "id": "ERTfR-U2Q4Jh",
        "colab_type": "code",
        "colab": {}
      },
      "source": [
        "from sklearn.metrics import accuracy_score\n",
        "lr_accuracy_score=  accuracy_score(y_test, lr_pred)\n",
        "dt_accuracy_score=  accuracy_score(y_test, dt_pred)\n",
        "svm_accuracy_score=  accuracy_score(y_test, svm_pred)\n",
        "rf_accuracy_score=  accuracy_score(y_test, rf_pred)\n",
        "nb_accuracy_score=  accuracy_score(y_test, nb_pred)\n",
        "\n",
        "from sklearn.metrics import f1_score\n",
        "# f1 score : F1 score reaches its best value at 1 and worst score at 0\n",
        "lr_f1_score= f1_score(y_test, lr_pred)\n",
        "dt_f1_score= f1_score(y_test, dt_pred)\n",
        "svm_f1_score= f1_score(y_test, svm_pred)\n",
        "rf_f1_score= f1_score(y_test, rf_pred)\n",
        "nb_f1_score= f1_score(y_test, nb_pred)\n",
        "\n",
        "from sklearn.metrics import recall_score\n",
        "# recall score : The best value is 1 and the worst value is 0\n",
        "lr_recall_score= recall_score(y_test, lr_pred)\n",
        "dt_recall_score= recall_score(y_test, dt_pred)\n",
        "svm_recall_score= recall_score(y_test, svm_pred)\n",
        "rf_recall_score= recall_score(y_test, rf_pred)\n",
        "nb_recall_score= recall_score(y_test, nb_pred)"
      ],
      "execution_count": 0,
      "outputs": []
    },
    {
      "cell_type": "code",
      "metadata": {
        "id": "GmWuYRrcJiT7",
        "colab_type": "code",
        "colab": {}
      },
      "source": [
        "from prettytable import PrettyTable\n",
        "t2 = PrettyTable(['Accuracy', 'Logistic (%)' , 'DT (%)' , 'SVM (%)' , 'RF (%)' , 'NB (%)'])\n",
        "t2.add_row(['accuracy_score', lr_accuracy_score*100, dt_accuracy_score*100, svm_accuracy_score*100, rf_accuracy_score*100 , nb_accuracy_score*100])\n",
        "t2.add_row(['f1_score',       lr_f1_score*100      , dt_f1_score*100      , svm_f1_score*100       , rf_f1_score*100       , nb_f1_score*100]      )\n",
        "t2.add_row(['recall_score',   lr_recall_score*100  , dt_recall_score*100  , svm_recall_score*100  , rf_recall_score*100   , nb_recall_score*100]  )\n",
        "print(t2)"
      ],
      "execution_count": 0,
      "outputs": []
    },
    {
      "cell_type": "markdown",
      "metadata": {
        "id": "hLuYRN4c51tm",
        "colab_type": "text"
      },
      "source": [
        "# Differnat classification on data as is (balanced) [OK]"
      ]
    },
    {
      "cell_type": "code",
      "metadata": {
        "id": "HTFoD2Wx7MAQ",
        "colab_type": "code",
        "colab": {}
      },
      "source": [
        "## logistic regression\n",
        "from sklearn.linear_model import LogisticRegression\n",
        "model_lr = LogisticRegression()\n",
        "model_lr.fit(x_smote_train,y_smote_train)\n",
        "ACC_train_lr = model_lr.score(x_smote_train,y_smote_train)\n",
        "ACC_test_lr = model_lr.score(xx_test, yy_test)\n",
        "print(ACC_train_lr*100)\n",
        "print(ACC_test_lr*100)"
      ],
      "execution_count": 0,
      "outputs": []
    },
    {
      "cell_type": "code",
      "metadata": {
        "id": "1iJYgSxj7Mwv",
        "colab_type": "code",
        "colab": {}
      },
      "source": [
        "##  Decision tree\n",
        "from sklearn import tree\n",
        "model_dt = tree.DecisionTreeClassifier()\n",
        "model_dt.fit(x_train,y_train)\n",
        "ACC_train_dt = model_dt.score(x_train,y_train)\n",
        "ACC_test_dt = model_dt.score(x_test,y_test)\n",
        "print(ACC_train_dt*100)\n",
        "print(ACC_test_dt*100)"
      ],
      "execution_count": 0,
      "outputs": []
    },
    {
      "cell_type": "code",
      "metadata": {
        "id": "YvM_i4Ut7TUy",
        "colab_type": "code",
        "colab": {}
      },
      "source": [
        "## Support Vector Machine\n",
        "from sklearn.svm import SVC \n",
        "model_svm = SVC()\n",
        "model_svm.fit(x_smote_train,y_smote_train)\n",
        "ACC_train_svm = model_svm.score(x_smote_train,y_smote_train)\n",
        "ACC_test_svm = model_svm.score(xx_test, yy_test)\n",
        "print(ACC_train_svm*100)\n",
        "print(ACC_test_svm*100)\n"
      ],
      "execution_count": 0,
      "outputs": []
    },
    {
      "cell_type": "code",
      "metadata": {
        "id": "ZeZJMHLv7T_B",
        "colab_type": "code",
        "colab": {}
      },
      "source": [
        "## Random Forest \n",
        "from sklearn.ensemble import RandomForestClassifier \n",
        "model_rf = RandomForestClassifier()\n",
        "model_rf.fit(x_smote_train,y_smote_train)\n",
        "ACC_train_rf = model_rf.score(x_smote_train,y_smote_train)\n",
        "ACC_test_rf = model_rf.score(xx_test, yy_test)\n",
        "print(ACC_train_rf*100)\n",
        "print(ACC_test_rf*100)"
      ],
      "execution_count": 0,
      "outputs": []
    },
    {
      "cell_type": "code",
      "metadata": {
        "id": "Q4FM5OL_7aso",
        "colab_type": "code",
        "colab": {}
      },
      "source": [
        "## Naive Bayse\n",
        "from sklearn.naive_bayes import GaussianNB\n",
        "model_nb = GaussianNB()\n",
        "model_nb.fit(x_smote_train,y_smote_train)\n",
        "ACC_train_nb = model_nb.score(x_smote_train,y_smote_train)\n",
        "ACC_test_nb = model_nb.score(xx_test,yy_test)\n",
        "print(ACC_train_nb*100)\n",
        "print(ACC_test_nb*100)"
      ],
      "execution_count": 0,
      "outputs": []
    },
    {
      "cell_type": "code",
      "metadata": {
        "id": "jE8CSZaC7a04",
        "colab_type": "code",
        "colab": {}
      },
      "source": [
        "from prettytable import PrettyTable\n",
        "t = PrettyTable(['Accuracy', 'Logistic (%)' , 'DT (%)' , 'SVM (%)' , 'RF (%)' , 'NB (%)'])\n",
        "t.add_row(['Training', ACC_train_lr*100, ACC_train_dt*100, ACC_train_svm*100, ACC_train_rf*100 , ACC_train_nb*100])\n",
        "t.add_row(['Testing', ACC_test_lr*100, ACC_test_dt*100, ACC_test_svm*100, ACC_test_rf*100 , ACC_test_nb*100])\n",
        "print(t)"
      ],
      "execution_count": 0,
      "outputs": []
    },
    {
      "cell_type": "code",
      "metadata": {
        "id": "grJBmxQv7a6E",
        "colab_type": "code",
        "colab": {}
      },
      "source": [
        "# use differant performance metric on DT\n",
        "lr_pred = model_lr.predict(x_test)\n",
        "dt_pred = model_dt.predict(x_test)\n",
        "svm_pred = model_svm.predict(x_test)\n",
        "rf_pred = model_rf.predict(x_test)\n",
        "nb_pred = model_nb.predict(x_test)"
      ],
      "execution_count": 0,
      "outputs": []
    },
    {
      "cell_type": "code",
      "metadata": {
        "id": "N2RKKleG7bEK",
        "colab_type": "code",
        "colab": {}
      },
      "source": [
        "from sklearn.metrics import accuracy_score\n",
        "lr_accuracy_score=  accuracy_score(y_test, lr_pred)\n",
        "dt_accuracy_score=  accuracy_score(y_test, dt_pred)\n",
        "svm_accuracy_score=  accuracy_score(y_test, svm_pred)\n",
        "rf_accuracy_score=  accuracy_score(y_test, rf_pred)\n",
        "nb_accuracy_score=  accuracy_score(y_test, nb_pred)\n",
        "\n",
        "from sklearn.metrics import f1_score\n",
        "# f1 score : F1 score reaches its best value at 1 and worst score at 0\n",
        "lr_f1_score= f1_score(y_test, lr_pred)\n",
        "dt_f1_score= f1_score(y_test, dt_pred)\n",
        "svm_f1_score= f1_score(y_test, svm_pred)\n",
        "rf_f1_score= f1_score(y_test, rf_pred)\n",
        "nb_f1_score= f1_score(y_test, nb_pred)\n",
        "\n",
        "from sklearn.metrics import recall_score\n",
        "# recall score : The best value is 1 and the worst value is 0\n",
        "lr_recall_score= recall_score(y_test, lr_pred)\n",
        "dt_recall_score= recall_score(y_test, dt_pred)\n",
        "svm_recall_score= recall_score(y_test, svm_pred)\n",
        "rf_recall_score= recall_score(y_test, rf_pred)\n",
        "nb_recall_score= recall_score(y_test, nb_pred)"
      ],
      "execution_count": 0,
      "outputs": []
    },
    {
      "cell_type": "code",
      "metadata": {
        "id": "7Qyftj1E7bHS",
        "colab_type": "code",
        "colab": {}
      },
      "source": [
        "from prettytable import PrettyTable\n",
        "t2 = PrettyTable(['Accuracy', 'Logistic (%)' , 'DT (%)' , 'SVM (%)' , 'RF (%)' , 'NB (%)'])\n",
        "t2.add_row(['accuracy_score', lr_accuracy_score*100, dt_accuracy_score*100, svm_accuracy_score*100, rf_accuracy_score*100 , nb_accuracy_score*100])\n",
        "t2.add_row(['f1_score',       lr_f1_score*100      , dt_f1_score*100      , svm_f1_score*100       , rf_f1_score*100       , nb_f1_score*100]      )\n",
        "t2.add_row(['recall_score',   lr_recall_score*100  , dt_recall_score*100  , svm_recall_score*100  , rf_recall_score*100   , nb_recall_score*100]  )\n",
        "print(t2)"
      ],
      "execution_count": 0,
      "outputs": []
    },
    {
      "cell_type": "code",
      "metadata": {
        "id": "04hPDFwr7azY",
        "colab_type": "code",
        "colab": {}
      },
      "source": [
        ""
      ],
      "execution_count": 0,
      "outputs": []
    },
    {
      "cell_type": "code",
      "metadata": {
        "id": "0fKdGXM-7awU",
        "colab_type": "code",
        "colab": {}
      },
      "source": [
        ""
      ],
      "execution_count": 0,
      "outputs": []
    },
    {
      "cell_type": "code",
      "metadata": {
        "id": "rMIjqxzI7aq9",
        "colab_type": "code",
        "colab": {}
      },
      "source": [
        ""
      ],
      "execution_count": 0,
      "outputs": []
    },
    {
      "cell_type": "markdown",
      "metadata": {
        "id": "EzCP1zFLPB0-",
        "colab_type": "text"
      },
      "source": [
        "# To Be\n",
        "\n",
        "*   PCA => **DONE**\n",
        "*   K-FOLD\n",
        "*   Data Hacke ( re-sampling) \n",
        "\n",
        "\n",
        "\n",
        "\n",
        "\n",
        "\n",
        "\n"
      ]
    }
  ]
}