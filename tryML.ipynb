{
  "nbformat": 4,
  "nbformat_minor": 0,
  "metadata": {
    "colab": {
      "name": "tryML.ipynb",
      "provenance": [],
      "collapsed_sections": [],
      "authorship_tag": "ABX9TyOny0QYsUWtkVzsCt3cJEA2",
      "include_colab_link": true
    },
    "kernelspec": {
      "name": "python3",
      "display_name": "Python 3"
    }
  },
  "cells": [
    {
      "cell_type": "markdown",
      "metadata": {
        "id": "view-in-github",
        "colab_type": "text"
      },
      "source": [
        "<a href=\"https://colab.research.google.com/github/duhajarrar/FraudDetectionMLProject/blob/master/tryML.ipynb\" target=\"_parent\"><img src=\"https://colab.research.google.com/assets/colab-badge.svg\" alt=\"Open In Colab\"/></a>"
      ]
    },
    {
      "cell_type": "markdown",
      "metadata": {
        "id": "RVS3iZEdH_i1",
        "colab_type": "text"
      },
      "source": [
        "# Description of Data"
      ]
    },
    {
      "cell_type": "code",
      "metadata": {
        "id": "VjZUq1SlIPeh",
        "colab_type": "code",
        "colab": {
          "base_uri": "https://localhost:8080/",
          "height": 1000
        },
        "outputId": "8c92f2b8-b045-4e26-ab32-f6cb92c94c73"
      },
      "source": [
        "import pandas as pd\n",
        "import math \n",
        "datafile=pd.read_csv(\"creditcard.csv\")\n",
        "print(datafile.isnull().sum())\n",
        "datafile.columns\n",
        "datafile.info()\n"
      ],
      "execution_count": 19,
      "outputs": [
        {
          "output_type": "stream",
          "text": [
            "Time      0\n",
            "V1        0\n",
            "V2        0\n",
            "V3        0\n",
            "V4        0\n",
            "V5        0\n",
            "V6        0\n",
            "V7        0\n",
            "V8        0\n",
            "V9        0\n",
            "V10       1\n",
            "V11       1\n",
            "V12       1\n",
            "V13       1\n",
            "V14       1\n",
            "V15       1\n",
            "V16       1\n",
            "V17       1\n",
            "V18       1\n",
            "V19       1\n",
            "V20       1\n",
            "V21       1\n",
            "V22       1\n",
            "V23       1\n",
            "V24       1\n",
            "V25       1\n",
            "V26       1\n",
            "V27       1\n",
            "V28       1\n",
            "Amount    1\n",
            "Class     1\n",
            "dtype: int64\n",
            "<class 'pandas.core.frame.DataFrame'>\n",
            "RangeIndex: 63472 entries, 0 to 63471\n",
            "Data columns (total 31 columns):\n",
            " #   Column  Non-Null Count  Dtype  \n",
            "---  ------  --------------  -----  \n",
            " 0   Time    63472 non-null  int64  \n",
            " 1   V1      63472 non-null  float64\n",
            " 2   V2      63472 non-null  float64\n",
            " 3   V3      63472 non-null  float64\n",
            " 4   V4      63472 non-null  float64\n",
            " 5   V5      63472 non-null  float64\n",
            " 6   V6      63472 non-null  float64\n",
            " 7   V7      63472 non-null  float64\n",
            " 8   V8      63472 non-null  float64\n",
            " 9   V9      63472 non-null  float64\n",
            " 10  V10     63471 non-null  float64\n",
            " 11  V11     63471 non-null  float64\n",
            " 12  V12     63471 non-null  float64\n",
            " 13  V13     63471 non-null  float64\n",
            " 14  V14     63471 non-null  float64\n",
            " 15  V15     63471 non-null  float64\n",
            " 16  V16     63471 non-null  float64\n",
            " 17  V17     63471 non-null  float64\n",
            " 18  V18     63471 non-null  float64\n",
            " 19  V19     63471 non-null  float64\n",
            " 20  V20     63471 non-null  float64\n",
            " 21  V21     63471 non-null  float64\n",
            " 22  V22     63471 non-null  float64\n",
            " 23  V23     63471 non-null  float64\n",
            " 24  V24     63471 non-null  float64\n",
            " 25  V25     63471 non-null  float64\n",
            " 26  V26     63471 non-null  float64\n",
            " 27  V27     63471 non-null  float64\n",
            " 28  V28     63471 non-null  float64\n",
            " 29  Amount  63471 non-null  float64\n",
            " 30  Class   63471 non-null  float64\n",
            "dtypes: float64(30), int64(1)\n",
            "memory usage: 15.0 MB\n"
          ],
          "name": "stdout"
        }
      ]
    },
    {
      "cell_type": "markdown",
      "metadata": {
        "id": "y6yGcX1sHeK8",
        "colab_type": "text"
      },
      "source": [
        "# Decision Trees \n"
      ]
    },
    {
      "cell_type": "code",
      "metadata": {
        "id": "S3JK4DB_Hq4-",
        "colab_type": "code",
        "colab": {}
      },
      "source": [
        ""
      ],
      "execution_count": 0,
      "outputs": []
    }
  ]
}