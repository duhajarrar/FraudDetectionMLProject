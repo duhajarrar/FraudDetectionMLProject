{
  "nbformat": 4,
  "nbformat_minor": 0,
  "metadata": {
    "colab": {
      "name": "tryML.ipynb",
      "provenance": [],
      "collapsed_sections": [],
      "mount_file_id": "https://github.com/duhajarrar/FraudDetectionMLProject/blob/master/tryML.ipynb",
      "authorship_tag": "ABX9TyOZMUbrmJN5Ky+NW3UZ6mnk",
      "include_colab_link": true
    },
    "kernelspec": {
      "name": "python3",
      "display_name": "Python 3"
    }
  },
  "cells": [
    {
      "cell_type": "markdown",
      "metadata": {
        "id": "view-in-github",
        "colab_type": "text"
      },
      "source": [
        "<a href=\"https://colab.research.google.com/github/duhajarrar/FraudDetectionMLProject/blob/master/tryML.ipynb\" target=\"_parent\"><img src=\"https://colab.research.google.com/assets/colab-badge.svg\" alt=\"Open In Colab\"/></a>"
      ]
    },
    {
      "cell_type": "markdown",
      "metadata": {
        "id": "RVS3iZEdH_i1",
        "colab_type": "text"
      },
      "source": [
        "# Description of Data"
      ]
    },
    {
      "cell_type": "code",
      "metadata": {
        "id": "VjZUq1SlIPeh",
        "colab_type": "code",
        "outputId": "832d3f2e-5558-49b1-dd69-4f9fceaef634",
        "colab": {
          "base_uri": "https://localhost:8080/",
          "height": 140
        }
      },
      "source": [
        "import pandas as pd\n",
        "import math \n",
        "#datafile1=pd.read_csv('/content/drive/My Drive/creditcard.csv')\n",
        "datafile=pd.read_csv('creditcard.csv')\n",
        "#print(datafile1.isnull().sum())\n",
        "print(\"(Records , Columns ) :\",datafile.shape)\n",
        "print(\"Columns :\")\n",
        "print(datafile.columns)\n",
        "\n",
        "\n"
      ],
      "execution_count": 43,
      "outputs": [
        {
          "output_type": "stream",
          "text": [
            "(Records , Columns ) : (152629, 31)\n",
            "Columns :\n",
            "Index(['Time', 'V1', 'V2', 'V3', 'V4', 'V5', 'V6', 'V7', 'V8', 'V9', 'V10',\n",
            "       'V11', 'V12', 'V13', 'V14', 'V15', 'V16', 'V17', 'V18', 'V19', 'V20',\n",
            "       'V21', 'V22', 'V23', 'V24', 'V25', 'V26', 'V27', 'V28', 'Amount',\n",
            "       'Class'],\n",
            "      dtype='object')\n"
          ],
          "name": "stdout"
        }
      ]
    },
    {
      "cell_type": "code",
      "metadata": {
        "id": "HQZ6AGJOx9-Y",
        "colab_type": "code",
        "colab": {
          "base_uri": "https://localhost:8080/",
          "height": 703
        },
        "outputId": "c10b1f87-0813-4105-c452-678e3151fc9e"
      },
      "source": [
        "print(\"Count of non null records in Columns :\")\n",
        "datafile.info()"
      ],
      "execution_count": 44,
      "outputs": [
        {
          "output_type": "stream",
          "text": [
            "Count of non null records in Columns :\n",
            "<class 'pandas.core.frame.DataFrame'>\n",
            "RangeIndex: 152629 entries, 0 to 152628\n",
            "Data columns (total 31 columns):\n",
            " #   Column  Non-Null Count   Dtype  \n",
            "---  ------  --------------   -----  \n",
            " 0   Time    152629 non-null  int64  \n",
            " 1   V1      152629 non-null  float64\n",
            " 2   V2      152629 non-null  float64\n",
            " 3   V3      152629 non-null  float64\n",
            " 4   V4      152629 non-null  float64\n",
            " 5   V5      152629 non-null  float64\n",
            " 6   V6      152629 non-null  float64\n",
            " 7   V7      152629 non-null  float64\n",
            " 8   V8      152628 non-null  float64\n",
            " 9   V9      152628 non-null  float64\n",
            " 10  V10     152628 non-null  float64\n",
            " 11  V11     152628 non-null  float64\n",
            " 12  V12     152628 non-null  float64\n",
            " 13  V13     152628 non-null  float64\n",
            " 14  V14     152628 non-null  float64\n",
            " 15  V15     152628 non-null  float64\n",
            " 16  V16     152628 non-null  float64\n",
            " 17  V17     152628 non-null  float64\n",
            " 18  V18     152628 non-null  float64\n",
            " 19  V19     152628 non-null  float64\n",
            " 20  V20     152628 non-null  float64\n",
            " 21  V21     152628 non-null  float64\n",
            " 22  V22     152628 non-null  float64\n",
            " 23  V23     152628 non-null  float64\n",
            " 24  V24     152628 non-null  float64\n",
            " 25  V25     152628 non-null  float64\n",
            " 26  V26     152628 non-null  float64\n",
            " 27  V27     152628 non-null  float64\n",
            " 28  V28     152628 non-null  float64\n",
            " 29  Amount  152628 non-null  float64\n",
            " 30  Class   152628 non-null  float64\n",
            "dtypes: float64(30), int64(1)\n",
            "memory usage: 36.1 MB\n"
          ],
          "name": "stdout"
        }
      ]
    },
    {
      "cell_type": "code",
      "metadata": {
        "id": "7X32ahAmx3Xv",
        "colab_type": "code",
        "colab": {
          "base_uri": "https://localhost:8080/",
          "height": 580
        },
        "outputId": "dbf2b793-76a8-4001-d509-0741e959c726"
      },
      "source": [
        "print(datafile.isnull().sum())"
      ],
      "execution_count": 45,
      "outputs": [
        {
          "output_type": "stream",
          "text": [
            "Time      0\n",
            "V1        0\n",
            "V2        0\n",
            "V3        0\n",
            "V4        0\n",
            "V5        0\n",
            "V6        0\n",
            "V7        0\n",
            "V8        1\n",
            "V9        1\n",
            "V10       1\n",
            "V11       1\n",
            "V12       1\n",
            "V13       1\n",
            "V14       1\n",
            "V15       1\n",
            "V16       1\n",
            "V17       1\n",
            "V18       1\n",
            "V19       1\n",
            "V20       1\n",
            "V21       1\n",
            "V22       1\n",
            "V23       1\n",
            "V24       1\n",
            "V25       1\n",
            "V26       1\n",
            "V27       1\n",
            "V28       1\n",
            "Amount    1\n",
            "Class     1\n",
            "dtype: int64\n"
          ],
          "name": "stdout"
        }
      ]
    },
    {
      "cell_type": "code",
      "metadata": {
        "id": "XPuynKllxnGJ",
        "colab_type": "code",
        "colab": {
          "base_uri": "https://localhost:8080/",
          "height": 228
        },
        "outputId": "0cfa33a4-82dc-4214-da3a-f6dcd2d19a27"
      },
      "source": [
        "datafile.fillna(datafile.mean())"
      ],
      "execution_count": 86,
      "outputs": [
        {
          "output_type": "execute_result",
          "data": {
            "text/plain": [
              "0         0.098698\n",
              "1         0.085102\n",
              "2         0.247676\n",
              "3         0.377436\n",
              "4        -0.270533\n",
              "            ...   \n",
              "152624    0.212851\n",
              "152625    0.205074\n",
              "152626    0.147540\n",
              "152627    0.133057\n",
              "152628    0.053334\n",
              "Name: V8, Length: 152629, dtype: float64"
            ]
          },
          "metadata": {
            "tags": []
          },
          "execution_count": 86
        }
      ]
    },
    {
      "cell_type": "markdown",
      "metadata": {
        "id": "y6yGcX1sHeK8",
        "colab_type": "text"
      },
      "source": [
        "# Decision Trees \n"
      ]
    },
    {
      "cell_type": "code",
      "metadata": {
        "id": "S3JK4DB_Hq4-",
        "colab_type": "code",
        "colab": {}
      },
      "source": [
        ""
      ],
      "execution_count": 0,
      "outputs": []
    }
  ]
}