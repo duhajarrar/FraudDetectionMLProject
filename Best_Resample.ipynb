{
  "nbformat": 4,
  "nbformat_minor": 0,
  "metadata": {
    "colab": {
      "name": "Copy of pp.ipynb",
      "provenance": [],
      "collapsed_sections": [],
      "mount_file_id": "1RTe7p7tbFF-Y_MOLHHDCxWceSMUQ4egC",
      "authorship_tag": "ABX9TyOrYYFPLuratqq8OxBhKixz",
      "include_colab_link": true
    },
    "kernelspec": {
      "name": "python3",
      "display_name": "Python 3"
    }
  },
  "cells": [
    {
      "cell_type": "markdown",
      "metadata": {
        "id": "view-in-github",
        "colab_type": "text"
      },
      "source": [
        "<a href=\"https://colab.research.google.com/github/duhajarrar/FraudDetectionMLProject/blob/master/Best_Resample.ipynb\" target=\"_parent\"><img src=\"https://colab.research.google.com/assets/colab-badge.svg\" alt=\"Open In Colab\"/></a>"
      ]
    },
    {
      "cell_type": "code",
      "metadata": {
        "id": "Qcu4Sl1zxBGD",
        "colab_type": "code",
        "colab": {}
      },
      "source": [
        "import pandas as pd\n",
        "import math \n",
        "creditcard=pd.read_csv('/content/drive/My Drive/creditcard.csv')\n"
      ],
      "execution_count": 0,
      "outputs": []
    },
    {
      "cell_type": "code",
      "metadata": {
        "id": "57PYarIYxl5m",
        "colab_type": "code",
        "outputId": "414114c6-3a0e-44dc-c677-e546e1a569e3",
        "colab": {
          "base_uri": "https://localhost:8080/",
          "height": 213
        }
      },
      "source": [
        "from collections import Counter\n",
        "from sklearn.model_selection import train_test_split\n",
        "from imblearn.over_sampling import SMOTE\n",
        "\n",
        "xx=creditcard.iloc[:,:-1]\n",
        "yy=creditcard.Class\n",
        "xx_train,xx_test,yy_train,yy_test =\\\n",
        "train_test_split(xx,yy,test_size=0.2,random_state=10)\n",
        "smote1=SMOTE()\n",
        "x_smote_test,y_smote_test=smote1.fit_sample(xx_test,yy_test)\n",
        "x_smote_train,y_smote_train=smote1.fit_sample(xx_train,yy_train)\n",
        "print(\"Before balance : \",Counter(yy_train))\n",
        "print(\"After balance : \",Counter(y_smote_train))\n"
      ],
      "execution_count": 2,
      "outputs": [
        {
          "output_type": "stream",
          "text": [
            "/usr/local/lib/python3.6/dist-packages/sklearn/externals/six.py:31: FutureWarning: The module is deprecated in version 0.21 and will be removed in version 0.23 since we've dropped support for Python 2.7. Please rely on the official version of six (https://pypi.org/project/six/).\n",
            "  \"(https://pypi.org/project/six/).\", FutureWarning)\n",
            "/usr/local/lib/python3.6/dist-packages/sklearn/utils/deprecation.py:144: FutureWarning: The sklearn.neighbors.base module is  deprecated in version 0.22 and will be removed in version 0.24. The corresponding classes / functions should instead be imported from sklearn.neighbors. Anything that cannot be imported from sklearn.neighbors is now part of the private API.\n",
            "  warnings.warn(message, FutureWarning)\n",
            "/usr/local/lib/python3.6/dist-packages/sklearn/utils/deprecation.py:87: FutureWarning: Function safe_indexing is deprecated; safe_indexing is deprecated in version 0.22 and will be removed in version 0.24.\n",
            "  warnings.warn(msg, category=FutureWarning)\n",
            "/usr/local/lib/python3.6/dist-packages/sklearn/utils/deprecation.py:87: FutureWarning: Function safe_indexing is deprecated; safe_indexing is deprecated in version 0.22 and will be removed in version 0.24.\n",
            "  warnings.warn(msg, category=FutureWarning)\n"
          ],
          "name": "stderr"
        },
        {
          "output_type": "stream",
          "text": [
            "Before balance :  Counter({0: 227447, 1: 398})\n",
            "After balance :  Counter({0: 227447, 1: 227447})\n"
          ],
          "name": "stdout"
        }
      ]
    },
    {
      "cell_type": "code",
      "metadata": {
        "id": "xPoJWobujpgU",
        "colab_type": "code",
        "outputId": "0fb1d201-da6e-4262-dd2e-8aaa8771fe49",
        "colab": {
          "base_uri": "https://localhost:8080/",
          "height": 87
        }
      },
      "source": [
        "print(Counter(yy_test==1))\n",
        "print(Counter(yy_train==1))\n",
        "print(Counter(y_smote_train==1))\n",
        "\n",
        "print(Counter(y_smote_test==1))"
      ],
      "execution_count": 3,
      "outputs": [
        {
          "output_type": "stream",
          "text": [
            "Counter({False: 56868, True: 94})\n",
            "Counter({False: 227447, True: 398})\n",
            "Counter({False: 227447, True: 227447})\n",
            "Counter({False: 56868, True: 56868})\n"
          ],
          "name": "stdout"
        }
      ]
    },
    {
      "cell_type": "code",
      "metadata": {
        "id": "iSt8wal5ySXn",
        "colab_type": "code",
        "outputId": "df5589ed-c50c-4bad-e344-0f66fd4de4ee",
        "colab": {
          "base_uri": "https://localhost:8080/",
          "height": 193
        }
      },
      "source": [
        "## logistic regression\n",
        "from sklearn.linear_model import LogisticRegression\n",
        "model_lr = LogisticRegression()\n",
        "model_lr.fit(x_smote_train,y_smote_train)\n",
        "ACC_train_lr = model_lr.score(x_smote_train,y_smote_train)\n",
        "ACC_test_lr = model_lr.score(x_smote_test,y_smote_test)\n",
        "print(ACC_train_lr*100)\n",
        "print(ACC_test_lr*100)"
      ],
      "execution_count": 4,
      "outputs": [
        {
          "output_type": "stream",
          "text": [
            "97.29013792224123\n",
            "96.60177955968207\n"
          ],
          "name": "stdout"
        },
        {
          "output_type": "stream",
          "text": [
            "/usr/local/lib/python3.6/dist-packages/sklearn/linear_model/_logistic.py:940: ConvergenceWarning: lbfgs failed to converge (status=1):\n",
            "STOP: TOTAL NO. of ITERATIONS REACHED LIMIT.\n",
            "\n",
            "Increase the number of iterations (max_iter) or scale the data as shown in:\n",
            "    https://scikit-learn.org/stable/modules/preprocessing.html\n",
            "Please also refer to the documentation for alternative solver options:\n",
            "    https://scikit-learn.org/stable/modules/linear_model.html#logistic-regression\n",
            "  extra_warning_msg=_LOGISTIC_SOLVER_CONVERGENCE_MSG)\n"
          ],
          "name": "stderr"
        }
      ]
    },
    {
      "cell_type": "code",
      "metadata": {
        "id": "FTdVnMmSyV91",
        "colab_type": "code",
        "colab": {
          "base_uri": "https://localhost:8080/",
          "height": 52
        },
        "outputId": "2ee0b112-84c6-4b88-a879-5bbedeb1ea64"
      },
      "source": [
        "##  Decision tree\n",
        "from sklearn import tree\n",
        "model_dt = tree.DecisionTreeClassifier()\n",
        "model_dt.fit(x_smote_train,y_smote_train)\n",
        "ACC_train_dt = model_dt.score(x_smote_train,y_smote_train)\n",
        "ACC_test_dt = model_dt.score(x_smote_test,y_smote_test)\n",
        "print(ACC_train_dt*100)\n",
        "print(ACC_test_dt*100)"
      ],
      "execution_count": 5,
      "outputs": [
        {
          "output_type": "stream",
          "text": [
            "100.0\n",
            "94.72990082295844\n"
          ],
          "name": "stdout"
        }
      ]
    },
    {
      "cell_type": "code",
      "metadata": {
        "id": "6oMZjedKyZ4u",
        "colab_type": "code",
        "outputId": "cb017fe6-0dff-44ab-d79d-d7759a5404fe",
        "colab": {
          "base_uri": "https://localhost:8080/",
          "height": 52
        }
      },
      "source": [
        "## Naive Bayse\n",
        "from sklearn.naive_bayes import GaussianNB\n",
        "model_nb = GaussianNB()\n",
        "model_nb.fit(x_smote_train,y_smote_train)\n",
        "ACC_train_nb = model_nb.score(x_smote_train,y_smote_train)\n",
        "ACC_test_nb = model_nb.score(x_smote_test,y_smote_test)\n",
        "print(ACC_train_nb*100)\n",
        "print(ACC_test_nb*100)"
      ],
      "execution_count": 6,
      "outputs": [
        {
          "output_type": "stream",
          "text": [
            "86.67337885309546\n",
            "89.66642048252092\n"
          ],
          "name": "stdout"
        }
      ]
    },
    {
      "cell_type": "code",
      "metadata": {
        "id": "loYO1OXaykfY",
        "colab_type": "code",
        "outputId": "2aefb55c-c91c-476c-cedd-29df694dc730",
        "colab": {
          "base_uri": "https://localhost:8080/",
          "height": 122
        }
      },
      "source": [
        "from prettytable import PrettyTable\n",
        "t = PrettyTable(['Accuracy', 'Logistic (%)' , 'DT (%)' , 'NB (%)'])\n",
        "t.add_row(['Training', ACC_train_lr*100, ACC_train_dt*100 , ACC_train_nb*100])\n",
        "t.add_row(['Testing', ACC_test_lr*100, ACC_test_dt*100 , ACC_test_nb*100])\n",
        "print(t)"
      ],
      "execution_count": 7,
      "outputs": [
        {
          "output_type": "stream",
          "text": [
            "+----------+-------------------+-------------------+-------------------+\n",
            "| Accuracy |    Logistic (%)   |       DT (%)      |       NB (%)      |\n",
            "+----------+-------------------+-------------------+-------------------+\n",
            "| Training | 97.29013792224123 |       100.0       | 86.67337885309546 |\n",
            "| Testing  | 96.60177955968207 | 94.72990082295844 | 89.66642048252092 |\n",
            "+----------+-------------------+-------------------+-------------------+\n"
          ],
          "name": "stdout"
        }
      ]
    },
    {
      "cell_type": "code",
      "metadata": {
        "id": "u9pVgYdOyr1k",
        "colab_type": "code",
        "colab": {}
      },
      "source": [
        "# use differant performance metric on DT\n",
        "lr_pred = model_lr.predict(x_smote_test)#x_smote_test,y_smote_test\n",
        "dt_pred = model_dt.predict(x_smote_test)\n",
        "nb_pred = model_nb.predict(x_smote_test)"
      ],
      "execution_count": 0,
      "outputs": []
    },
    {
      "cell_type": "code",
      "metadata": {
        "id": "KwivwF5ByuMp",
        "colab_type": "code",
        "colab": {}
      },
      "source": [
        "from sklearn.metrics import accuracy_score\n",
        "lr_accuracy_score=  accuracy_score(y_smote_test, lr_pred)\n",
        "dt_accuracy_score=  accuracy_score(y_smote_test, dt_pred)\n",
        "nb_accuracy_score=  accuracy_score(y_smote_test, nb_pred)\n",
        "\n",
        "from sklearn.metrics import f1_score\n",
        "# f1 score : F1 score reaches its best value at 1 and worst score at 0\n",
        "lr_f1_score= f1_score(y_smote_test, lr_pred)\n",
        "dt_f1_score= f1_score(y_smote_test, dt_pred)\n",
        "nb_f1_score= f1_score(y_smote_test, nb_pred)\n",
        "\n",
        "from sklearn.metrics import recall_score\n",
        "# recall score : The best value is 1 and the worst value is 0\n",
        "lr_recall_score= recall_score(y_smote_test, lr_pred)\n",
        "dt_recall_score= recall_score(y_smote_test, dt_pred)\n",
        "nb_recall_score= recall_score(y_smote_test, nb_pred)"
      ],
      "execution_count": 0,
      "outputs": []
    },
    {
      "cell_type": "code",
      "metadata": {
        "id": "R8qpRKvkyzGc",
        "colab_type": "code",
        "outputId": "6047a1b4-c541-47ae-fa1b-b6fcdb9aee92",
        "colab": {
          "base_uri": "https://localhost:8080/",
          "height": 140
        }
      },
      "source": [
        "from prettytable import PrettyTable\n",
        "t2 = PrettyTable(['Accuracy', 'Logistic (%)' , 'DT (%)' , 'NB (%)'])\n",
        "t2.add_row(['accuracy_score', lr_accuracy_score*100, dt_accuracy_score*100, nb_accuracy_score*100])\n",
        "t2.add_row(['f1_score',       lr_f1_score*100      , dt_f1_score*100      , nb_f1_score*100]      )\n",
        "t2.add_row(['recall_score',   lr_recall_score*100  , dt_recall_score*100  , nb_recall_score*100]  )\n",
        "print(t2)"
      ],
      "execution_count": 10,
      "outputs": [
        {
          "output_type": "stream",
          "text": [
            "+----------------+-------------------+-------------------+-------------------+\n",
            "|    Accuracy    |    Logistic (%)   |       DT (%)      |       NB (%)      |\n",
            "+----------------+-------------------+-------------------+-------------------+\n",
            "| accuracy_score | 96.60177955968207 | 94.72990082295844 | 89.66642048252092 |\n",
            "|    f1_score    | 96.56288628622754 | 94.44660625938074 | 88.57390070094594 |\n",
            "|  recall_score  | 95.47021171836533 | 89.62861363156784 | 80.10480410775833 |\n",
            "+----------------+-------------------+-------------------+-------------------+\n"
          ],
          "name": "stdout"
        }
      ]
    }
  ]
}